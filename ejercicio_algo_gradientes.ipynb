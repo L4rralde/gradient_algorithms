{
 "cells": [
  {
   "cell_type": "markdown",
   "id": "c6e56659-f36d-452e-a147-8b320be18565",
   "metadata": {},
   "source": [
    "# Tarea algoritmos de optimización con gradiente\n",
    "autor: Emmanuel A. Larralde Ortiz"
   ]
  },
  {
   "cell_type": "code",
   "execution_count": null,
   "id": "faf6514e-00c8-40ee-92f9-2ce5d35fb2fd",
   "metadata": {
    "tags": []
   },
   "outputs": [],
   "source": [
    "from copy import copy\n",
    "from sympy import(\n",
    "    Matrix,\n",
    "    symbols,\n",
    "    latex,\n",
    "    symbols,\n",
    "    Symbol,\n",
    "    init_printing\n",
    ")\n",
    "import numpy as np\n",
    "import matplotlib.pyplot as plt"
   ]
  },
  {
   "cell_type": "code",
   "execution_count": null,
   "id": "4e57e252-70e7-4e92-9a7a-88fc50f6d63a",
   "metadata": {
    "tags": []
   },
   "outputs": [],
   "source": [
    "def Grad(f, variables):\n",
    "    return Matrix([f]).jacobian(Matrix(symbols(variables))).T"
   ]
  },
  {
   "cell_type": "code",
   "execution_count": null,
   "id": "500f5d18-c5dd-4c87-92f6-a1d65df448f0",
   "metadata": {
    "tags": []
   },
   "outputs": [],
   "source": [
    "def rosenbrock(x):\n",
    "  x1 = x[0]\n",
    "  x2 = x[1]\n",
    "  x3 = x[2]\n",
    "  x4 = x[3]\n",
    "  return 100*(x1**2-x2)**2 + (x1-1)**2 + 100*(x3**2-x4)**2 + (x3-1)**2"
   ]
  },
  {
   "cell_type": "markdown",
   "id": "c46c3e9c-da6e-41d1-8fc6-4dd7050759cf",
   "metadata": {
    "tags": []
   },
   "source": [
    "# Problema\n",
    "Encontrar el punto óptimo de la siguiente **ecuación**\n",
    "\n",
    "$$\\sum _{i=1}^{2} [100(x_{2i-1}^2-x_{2i})^2 + (x_{2i-1}-1)^2]$$\n",
    "\n",
    "Desarrollando:\n",
    "\n",
    "$$100(x_1^2 - x_2)^2 + (x_1 - 1)^2 + 100(x_3^2 - x_4)^2 + (x_3 - 1)^2$$\n",
    "\n",
    "A través de cómputo simbólico obtengamos las ecuaciones de gradiente\n"
   ]
  },
  {
   "cell_type": "code",
   "execution_count": null,
   "id": "0a48f715-40b7-419f-90ae-773443e0a01e",
   "metadata": {},
   "outputs": [],
   "source": [
    "x = [Symbol(f'x{i+1}') for i in range(10)] #x[0] = x_1, x[1] = x_1, ..."
   ]
  },
  {
   "cell_type": "markdown",
   "id": "e6971b5a-a56a-45c5-b0f2-6e0dbf6878f2",
   "metadata": {},
   "source": [
    "Entonces, la ecuación se define de la siguiente forma\n"
   ]
  },
  {
   "cell_type": "code",
   "execution_count": null,
   "id": "15264663-2abb-444d-9e24-50228f7f78b4",
   "metadata": {
    "tags": []
   },
   "outputs": [],
   "source": [
    "f = 100*(x[0]**2 - x[1])**2 + (x[0] - 1)**2 + 100*(x[2]**2 - x[3])**2 + (x[2] - 1)**2 \n",
    "f"
   ]
  },
  {
   "cell_type": "markdown",
   "id": "43c594b2-6968-4c63-9695-f698c0ad39be",
   "metadata": {},
   "source": [
    "Gradiente de la función\n"
   ]
  },
  {
   "cell_type": "code",
   "execution_count": null,
   "id": "1fa44a8c-b624-4123-b9ef-581ccb67bd86",
   "metadata": {
    "tags": []
   },
   "outputs": [],
   "source": [
    "Grad(f, 'x1, x2, x3, x4')"
   ]
  },
  {
   "cell_type": "markdown",
   "id": "9f9169b2-68ff-4dd5-9d71-151c4bcdb8fc",
   "metadata": {},
   "source": [
    "Numéricamente"
   ]
  },
  {
   "cell_type": "code",
   "execution_count": null,
   "id": "260002e3-c729-415e-9145-0e62de3d9ea5",
   "metadata": {
    "tags": []
   },
   "outputs": [],
   "source": [
    "def grad(x):\n",
    "  x1 = x[0]\n",
    "  x2 = x[1]\n",
    "  x3 = x[2]\n",
    "  x4 = x[3]\n",
    "\n",
    "  gradient = np.array([\n",
    "   400*x1*(x1**2 - x2) + 2*x1 -2,\n",
    "   -200*x1**2 + 200*x2,\n",
    "   400*x3*(x3**2 - x4) + 2*x3 - 2,\n",
    "   -200*x3**2 + 200*x4\n",
    "  ])\n",
    "  return gradient"
   ]
  },
  {
   "cell_type": "markdown",
   "id": "21807ce2-5846-4eaa-af15-19e8bcd45683",
   "metadata": {},
   "source": [
    "## Algoritmos de optimización con gradiente"
   ]
  },
  {
   "cell_type": "markdown",
   "id": "7a643354-9bde-4fdd-92a1-94b2ff61b30b",
   "metadata": {},
   "source": [
    "Descenso del gradiente"
   ]
  },
  {
   "cell_type": "code",
   "execution_count": null,
   "id": "97cbc3e7-82c7-42d7-b662-64425923d9b8",
   "metadata": {
    "tags": []
   },
   "outputs": [],
   "source": [
    "def GD(grad=None, gd_params={}, f_params={}):\n",
    "    \"\"\"\n",
    "    Gradient Descent\n",
    "    \"\"\"\n",
    "    nIter = gd_params['nIter']\n",
    "    alpha = gd_params['alpha']\n",
    "    theta = copy(f_params['X'])\n",
    "    Theta = []\n",
    "    for _ in range(nIter):\n",
    "        p = grad(theta)\n",
    "        theta -= alpha*p\n",
    "        Theta.append(theta)\n",
    "    return np.array(Theta)"
   ]
  },
  {
   "cell_type": "code",
   "execution_count": null,
   "id": "c3654c05-20b4-4331-a9e2-5e09ba1a4f09",
   "metadata": {
    "tags": []
   },
   "outputs": [],
   "source": [
    "x_init = 0.5*np.random.normal(size=4)\n",
    "gd_params = {\n",
    "    'alpha' : 0.001, \n",
    "    'nIter' : 100000,\n",
    "}\n",
    "f_params={'X': x_init}"
   ]
  },
  {
   "cell_type": "code",
   "execution_count": null,
   "id": "1ec971f8-d804-4929-b1ab-1d5957981929",
   "metadata": {
    "tags": []
   },
   "outputs": [],
   "source": [
    "sol_gd = GD(grad=grad, gd_params=gd_params, f_params=f_params)\n",
    "sol_gd[-1]"
   ]
  },
  {
   "cell_type": "code",
   "execution_count": null,
   "id": "71d7d85d-7c12-4bfd-b572-e6a3fbe3fe60",
   "metadata": {
    "tags": []
   },
   "outputs": [],
   "source": [
    "def NAG(grad=None, gd_params={}, f_params={}):\n",
    "    \"\"\"\n",
    "    Nesterov Accelerated Gradient\n",
    "    \"\"\"\n",
    "    nIter = gd_params['nIter']\n",
    "    alpha = gd_params['alpha'] \n",
    "    eta   = gd_params['eta']\n",
    "    theta = copy(f_params['X'])\n",
    "    p = np.zeros(theta.shape)\n",
    "    Theta = []\n",
    "    for _ in range(nIter):\n",
    "        pre_theta = theta - 1.0*alpha*p\n",
    "        g = grad(pre_theta)\n",
    "        p = g + eta*p\n",
    "        theta = theta - alpha*p\n",
    "        Theta.append(theta)\n",
    "    return np.array(Theta)"
   ]
  },
  {
   "cell_type": "code",
   "execution_count": null,
   "id": "afa1f6bc-7c38-48cb-9175-9a7370e77fc4",
   "metadata": {
    "tags": []
   },
   "outputs": [],
   "source": [
    "x_init = 0.5*np.random.normal(size=4)\n",
    "# parámetros de los algoritmos\n",
    "gd_params = {\n",
    "    'alpha'          : 0.001,\n",
    "    'nIter'          : 10000,\n",
    "    'eta'            : 0.9,\n",
    "    'eta1'           : 0.9,\n",
    "    'eta2'           : 0.999\n",
    "}\n",
    "\n",
    "# parámetros de la función objetivo\n",
    "f_params={'X': x_init}"
   ]
  },
  {
   "cell_type": "code",
   "execution_count": null,
   "id": "41993d90-dd0a-4fe1-9242-0542fd07d06e",
   "metadata": {
    "tags": []
   },
   "outputs": [],
   "source": [
    "sol_nag = NAG(grad=grad, gd_params=gd_params, f_params=f_params)\n",
    "sol_nag[-1]"
   ]
  },
  {
   "cell_type": "code",
   "execution_count": null,
   "id": "7c82cbfc-65df-48f5-a10b-b2c1d6ea9162",
   "metadata": {
    "tags": []
   },
   "outputs": [],
   "source": []
  },
  {
   "cell_type": "code",
   "execution_count": null,
   "id": "20f9ce71-4bf7-4826-bb08-0223d92f0e0b",
   "metadata": {},
   "outputs": [],
   "source": []
  },
  {
   "cell_type": "code",
   "execution_count": null,
   "id": "c06b15d9-bb37-4a0d-b567-ef2e1b661658",
   "metadata": {},
   "outputs": [],
   "source": []
  }
 ],
 "metadata": {
  "kernelspec": {
   "display_name": "Python 3 (ipykernel)",
   "language": "python",
   "name": "python3"
  },
  "language_info": {
   "codemirror_mode": {
    "name": "ipython",
    "version": 3
   },
   "file_extension": ".py",
   "mimetype": "text/x-python",
   "name": "python",
   "nbconvert_exporter": "python",
   "pygments_lexer": "ipython3",
   "version": "3.10.10"
  }
 },
 "nbformat": 4,
 "nbformat_minor": 5
}
