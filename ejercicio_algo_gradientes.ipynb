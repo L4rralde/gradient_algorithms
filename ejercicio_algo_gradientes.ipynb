{
 "cells": [
  {
   "cell_type": "markdown",
   "id": "c6e56659-f36d-452e-a147-8b320be18565",
   "metadata": {},
   "source": [
    "# Tarea algoritmos de optimización con gradiente\n",
    "autor: Emmanuel A. Larralde Ortiz"
   ]
  },
  {
   "cell_type": "code",
   "execution_count": null,
   "id": "faf6514e-00c8-40ee-92f9-2ce5d35fb2fd",
   "metadata": {
    "tags": []
   },
   "outputs": [],
   "source": [
    "from copy import copy\n",
    "from sympy import(\n",
    "    Matrix,\n",
    "    symbols,\n",
    "    latex,\n",
    "    symbols,\n",
    "    Symbol,\n",
    "    init_printing\n",
    ")\n",
    "import numpy as np\n",
    "import matplotlib.pyplot as plt"
   ]
  },
  {
   "cell_type": "code",
   "execution_count": null,
   "id": "4e57e252-70e7-4e92-9a7a-88fc50f6d63a",
   "metadata": {
    "tags": []
   },
   "outputs": [],
   "source": [
    "def Grad(f, variables):\n",
    "    return Matrix([f]).jacobian(Matrix(symbols(variables))).T"
   ]
  },
  {
   "cell_type": "code",
   "execution_count": null,
   "id": "500f5d18-c5dd-4c87-92f6-a1d65df448f0",
   "metadata": {
    "tags": []
   },
   "outputs": [],
   "source": [
    "def rosenbrock(x):\n",
    "  x1 = x[0]\n",
    "  x2 = x[1]\n",
    "  x3 = x[2]\n",
    "  x4 = x[3]\n",
    "  return 100*(x1**2-x2)**2 + (x1-1)**2 + 100*(x3**2-x4)**2 + (x3-1)**2"
   ]
  },
  {
   "cell_type": "markdown",
   "id": "c46c3e9c-da6e-41d1-8fc6-4dd7050759cf",
   "metadata": {
    "tags": []
   },
   "source": [
    "# Problema\n",
    "Encontrar el punto óptimo de la siguiente **ecuación**\n",
    "\n",
    "$$\\sum _{i=1}^{2} [100(x_{2i-1}^2-x_{2i})^2 + (x_{2i-1}-1)^2]$$\n",
    "\n",
    "Desarrollando:\n",
    "\n",
    "$$100(x_1^2 - x_2)^2 + (x_1 - 1)^2 + 100(x_3^2 - x_4)^2 + (x_3 - 1)^2$$\n",
    "\n",
    "A través de cómputo simbólico obtengamos las ecuaciones de gradiente\n"
   ]
  },
  {
   "cell_type": "code",
   "execution_count": null,
   "id": "0a48f715-40b7-419f-90ae-773443e0a01e",
   "metadata": {},
   "outputs": [],
   "source": [
    "x = [Symbol(f'x{i+1}') for i in range(10)] #x[0] = x_1, x[1] = x_1, ..."
   ]
  },
  {
   "cell_type": "markdown",
   "id": "e6971b5a-a56a-45c5-b0f2-6e0dbf6878f2",
   "metadata": {},
   "source": [
    "Entonces, la ecuación se define de la siguiente forma\n"
   ]
  },
  {
   "cell_type": "code",
   "execution_count": null,
   "id": "15264663-2abb-444d-9e24-50228f7f78b4",
   "metadata": {
    "tags": []
   },
   "outputs": [],
   "source": [
    "f = 100*(x[0]**2 - x[1])**2 + (x[0] - 1)**2 + 100*(x[2]**2 - x[3])**2 + (x[2] - 1)**2 \n",
    "f"
   ]
  },
  {
   "cell_type": "markdown",
   "id": "43c594b2-6968-4c63-9695-f698c0ad39be",
   "metadata": {},
   "source": [
    "Gradiente de la función\n"
   ]
  },
  {
   "cell_type": "code",
   "execution_count": null,
   "id": "1fa44a8c-b624-4123-b9ef-581ccb67bd86",
   "metadata": {
    "tags": []
   },
   "outputs": [],
   "source": [
    "Grad(f, 'x1, x2, x3, x4')"
   ]
  },
  {
   "cell_type": "markdown",
   "id": "9f9169b2-68ff-4dd5-9d71-151c4bcdb8fc",
   "metadata": {},
   "source": [
    "Numéricamente"
   ]
  },
  {
   "cell_type": "code",
   "execution_count": null,
   "id": "260002e3-c729-415e-9145-0e62de3d9ea5",
   "metadata": {
    "tags": []
   },
   "outputs": [],
   "source": [
    "def grad(x):\n",
    "  x1 = x[0]\n",
    "  x2 = x[1]\n",
    "  x3 = x[2]\n",
    "  x4 = x[3]\n",
    "\n",
    "  gradient = np.array([\n",
    "   400*x1*(x1**2 - x2) + 2*x1 -2,\n",
    "   -200*x1**2 + 200*x2,\n",
    "   400*x3*(x3**2 - x4) + 2*x3 - 2,\n",
    "   -200*x3**2 + 200*x4\n",
    "  ])\n",
    "  return gradient"
   ]
  },
  {
   "cell_type": "markdown",
   "id": "21807ce2-5846-4eaa-af15-19e8bcd45683",
   "metadata": {},
   "source": [
    "## Algoritmos de optimización con gradiente"
   ]
  },
  {
   "cell_type": "markdown",
   "id": "7a643354-9bde-4fdd-92a1-94b2ff61b30b",
   "metadata": {},
   "source": [
    "Descenso del gradiente"
   ]
  },
  {
   "cell_type": "code",
   "execution_count": null,
   "id": "12738606-de84-4e08-92c5-6680f4ba524e",
   "metadata": {
    "tags": []
   },
   "outputs": [],
   "source": [
    "#x_init = 0.5*np.random.normal(size=4)\n",
    "x_init = np.array([0.0, 0.0, 0.0, 0.0])"
   ]
  },
  {
   "cell_type": "code",
   "execution_count": null,
   "id": "97cbc3e7-82c7-42d7-b662-64425923d9b8",
   "metadata": {
    "tags": []
   },
   "outputs": [],
   "source": [
    "def GD(grad=None, gd_params={}, f_params={}):\n",
    "    \"\"\"\n",
    "    Gradient Descent\n",
    "    \"\"\"\n",
    "    nIter = gd_params['nIter']\n",
    "    alpha = gd_params['alpha']\n",
    "    theta = copy(f_params['X'])\n",
    "    Theta = []\n",
    "    for _ in range(nIter):\n",
    "        p = grad(theta)\n",
    "        theta -= alpha*p\n",
    "        Theta.append(copy(theta))\n",
    "    return np.array(Theta)"
   ]
  },
  {
   "cell_type": "code",
   "execution_count": null,
   "id": "c3654c05-20b4-4331-a9e2-5e09ba1a4f09",
   "metadata": {
    "tags": []
   },
   "outputs": [],
   "source": [
    "#x_init = 0.5*np.random.normal(size=4)\n",
    "gd_params = {\n",
    "    'alpha' : 0.001, \n",
    "    'nIter' : 10000,\n",
    "}\n",
    "f_params={'X': x_init}"
   ]
  },
  {
   "cell_type": "code",
   "execution_count": null,
   "id": "1ec971f8-d804-4929-b1ab-1d5957981929",
   "metadata": {
    "tags": []
   },
   "outputs": [],
   "source": [
    "sol_gd = GD(grad=grad, gd_params=gd_params, f_params=f_params)"
   ]
  },
  {
   "cell_type": "code",
   "execution_count": null,
   "id": "71d7d85d-7c12-4bfd-b572-e6a3fbe3fe60",
   "metadata": {
    "tags": []
   },
   "outputs": [],
   "source": [
    "def NAG(grad=None, gd_params={}, f_params={}):\n",
    "    \"\"\"\n",
    "    Nesterov Accelerated Gradient\n",
    "    \"\"\"\n",
    "    nIter = gd_params['nIter']\n",
    "    alpha = gd_params['alpha'] \n",
    "    eta   = gd_params['eta']\n",
    "    theta = copy(f_params['X'])\n",
    "    p = np.zeros(theta.shape)\n",
    "    Theta = []\n",
    "    for _ in range(nIter):\n",
    "        pre_theta = theta - 1.0*alpha*p\n",
    "        g = grad(pre_theta)\n",
    "        p = g + eta*p\n",
    "        theta = theta - alpha*p\n",
    "        Theta.append(copy(theta))\n",
    "    return np.array(Theta)"
   ]
  },
  {
   "cell_type": "code",
   "execution_count": null,
   "id": "afa1f6bc-7c38-48cb-9175-9a7370e77fc4",
   "metadata": {
    "tags": []
   },
   "outputs": [],
   "source": [
    "#x_init = 0.5*np.random.normal(size=4)\n",
    "# parámetros de los algoritmos\n",
    "gd_params = {\n",
    "    'alpha'          : 0.001,\n",
    "    'nIter'          : 10000,\n",
    "    'eta'            : 0.9,\n",
    "}\n",
    "\n",
    "# parámetros de la función objetivo\n",
    "f_params={'X': x_init}"
   ]
  },
  {
   "cell_type": "code",
   "execution_count": null,
   "id": "41993d90-dd0a-4fe1-9242-0542fd07d06e",
   "metadata": {
    "tags": []
   },
   "outputs": [],
   "source": [
    "sol_nag = NAG(grad=grad, gd_params=gd_params, f_params=f_params)"
   ]
  },
  {
   "cell_type": "markdown",
   "id": "4c8c2e11-924b-440f-be07-64194962187b",
   "metadata": {},
   "source": [
    "Descenso de Gradiente Adaptable con Momentum(A DAM) "
   ]
  },
  {
   "cell_type": "code",
   "execution_count": null,
   "id": "c06b15d9-bb37-4a0d-b567-ef2e1b661658",
   "metadata": {
    "tags": []
   },
   "outputs": [],
   "source": [
    "def ADAM(grad=None, gd_params={}, f_params={}):\n",
    "    '''\n",
    "    Descenso de Gradiente Adaptable con Momentum(A DAM) \n",
    "    '''\n",
    "    epsilon= 1e-8\n",
    "    nIter    = gd_params['nIter']\n",
    "    alpha    = gd_params['alphaAdam'] \n",
    "    eta1     = gd_params['eta1']\n",
    "    eta2     = gd_params['eta2']\n",
    "    theta    = f_params['X']\n",
    "    p        = np.zeros(theta.shape)\n",
    "    v        = 0.0\n",
    "    Theta    = []\n",
    "    eta1_t = eta1\n",
    "    eta2_t = eta2\n",
    "    for t in range(nIter):\n",
    "        g  = grad(theta)\n",
    "        p  = eta1*p + (1.0-eta1)*g\n",
    "        v  = eta2*v + (1.0-eta2)*(g**2)\n",
    "        ph = p/(1.0-eta1_t)\n",
    "        vh = v/(1.0-eta2_t)\n",
    "        theta = theta - alpha * ph / (np.sqrt(vh)+epsilon)\n",
    "        eta1_t *= eta1\n",
    "        eta2_t *= eta2\n",
    "        Theta.append(copy(theta))\n",
    "    return np.array(Theta)"
   ]
  },
  {
   "cell_type": "code",
   "execution_count": null,
   "id": "bfcf903a-df03-4ceb-af42-2bb39e5be2ef",
   "metadata": {
    "tags": []
   },
   "outputs": [],
   "source": [
    "#x_init = 0.5*np.random.normal(size=4)\n",
    "# parámetros de los algoritmos\n",
    "gd_params = {\n",
    "    'alphaAdam'      : 0.01,\n",
    "    'nIter'          : 10000,\n",
    "    'eta'            : 0.9,\n",
    "    'eta1'           : 0.9,\n",
    "    'eta2'           : 0.999\n",
    "}\n",
    "\n",
    "# parámetros de la función objetivo\n",
    "f_params={'X': x_init}"
   ]
  },
  {
   "cell_type": "code",
   "execution_count": null,
   "id": "bc4cbf0f-6f89-4e12-8af1-a6086508cf42",
   "metadata": {
    "tags": []
   },
   "outputs": [],
   "source": [
    "sol_adam = ADAM(grad=grad, gd_params=gd_params, f_params=f_params)\n",
    "sol_adam[-1]"
   ]
  },
  {
   "cell_type": "code",
   "execution_count": null,
   "id": "310abbb7-3b1a-4a29-ad43-66c8d35a0c7b",
   "metadata": {
    "tags": []
   },
   "outputs": [],
   "source": [
    "def array_rosenbrock(x):\n",
    "    x1 = np.array([e[0] for e in x])\n",
    "    x2 = np.array([e[1] for e in x])\n",
    "    x3 = np.array([e[2] for e in x])\n",
    "    x4 = np.array([e[3] for e in x])\n",
    "    return 100*(x1**2-x2)**2 + (x1-1)**2 + 100*(x3**2-x4)**2 + (x3-1)**2"
   ]
  },
  {
   "cell_type": "code",
   "execution_count": null,
   "id": "02de8a2f-687d-4452-8f24-2f6359ed84ae",
   "metadata": {
    "tags": []
   },
   "outputs": [],
   "source": [
    "plt.plot(array_rosenbrock(sol_gd[:5000]), label='Simple GD')\n",
    "plt.plot(array_rosenbrock(sol_nag[:5000]), label='NAG')\n",
    "plt.plot(array_rosenbrock(sol_adam[:5000]), label='ADAM')\n",
    "plt.legend()"
   ]
  },
  {
   "cell_type": "code",
   "execution_count": null,
   "id": "a5d5bb48-e0bd-4e06-94d3-bb7047c3b223",
   "metadata": {
    "tags": []
   },
   "outputs": [],
   "source": [
    "plt.plot(array_rosenbrock(sol_adam[:1000]), label='ADAM')\n",
    "plt.plot(array_rosenbrock(sol_nag[:1000]), label='NAG')"
   ]
  },
  {
   "cell_type": "code",
   "execution_count": null,
   "id": "4c5d9ab2-5826-4c24-ab38-a8b2a7d33aef",
   "metadata": {
    "tags": []
   },
   "outputs": [],
   "source": []
  }
 ],
 "metadata": {
  "kernelspec": {
   "display_name": "Python 3 (ipykernel)",
   "language": "python",
   "name": "python3"
  },
  "language_info": {
   "codemirror_mode": {
    "name": "ipython",
    "version": 3
   },
   "file_extension": ".py",
   "mimetype": "text/x-python",
   "name": "python",
   "nbconvert_exporter": "python",
   "pygments_lexer": "ipython3",
   "version": "3.10.10"
  }
 },
 "nbformat": 4,
 "nbformat_minor": 5
}
