{
 "cells": [
  {
   "cell_type": "code",
   "execution_count": 31,
   "id": "54c6dd2f-e561-4a3f-8681-12601b6918ad",
   "metadata": {
    "tags": []
   },
   "outputs": [],
   "source": [
    "from copy import copy\n",
    "#from math import pi\n",
    "from sympy import(\n",
    "    Matrix,\n",
    "    symbols,\n",
    "    latex,\n",
    "    symbols,\n",
    "    Symbol,\n",
    "    init_printing,\n",
    "    exp,\n",
    "    sqrt,\n",
    "    sin,\n",
    "    cos,\n",
    "    pi\n",
    ")\n",
    "import numpy as np\n",
    "import matplotlib.pyplot as plt"
   ]
  },
  {
   "cell_type": "code",
   "execution_count": 32,
   "id": "6586128e-3af8-4819-9e1d-b1a89d846683",
   "metadata": {
    "tags": []
   },
   "outputs": [],
   "source": [
    "def Grad(f, variables):\n",
    "    return Matrix([f]).jacobian(Matrix(symbols(variables))).T"
   ]
  },
  {
   "cell_type": "code",
   "execution_count": 33,
   "id": "6174870f-86eb-4c8a-8df8-53f76c7fe97a",
   "metadata": {
    "tags": []
   },
   "outputs": [],
   "source": [
    "x = Symbol('x')\n",
    "y = Symbol('y')\n",
    "c = Symbol('c')"
   ]
  },
  {
   "cell_type": "markdown",
   "id": "6f1776da-e10d-48a3-8201-03a94a1f7368",
   "metadata": {
    "tags": []
   },
   "source": [
    "Ackley function"
   ]
  },
  {
   "cell_type": "code",
   "execution_count": 34,
   "id": "497ffeac-2b7f-4654-8bc3-d11e3f20a962",
   "metadata": {
    "tags": []
   },
   "outputs": [
    {
     "data": {
      "text/latex": [
       "$\\displaystyle - c e^{0.5 \\cos{\\left(2 \\pi x \\right)} + 0.5 \\cos{\\left(2 \\pi y \\right)}} + e + 20 - 20 e^{- 0.14142135623731 \\sqrt{x^{2} + y^{2}}}$"
      ],
      "text/plain": [
       "-c*exp(0.5*cos(2*pi*x) + 0.5*cos(2*pi*y)) + E + 20 - 20*exp(-0.14142135623731*sqrt(x**2 + y**2))"
      ]
     },
     "execution_count": 34,
     "metadata": {},
     "output_type": "execute_result"
    }
   ],
   "source": [
    "f = -20*exp(-0.2*sqrt(0.5*(x**2 + y**2)))-c*exp(0.5*(cos(2*pi*x)+cos(2*pi*y))) + exp(1) + 20\n",
    "f"
   ]
  },
  {
   "cell_type": "code",
   "execution_count": 35,
   "id": "bb29ddc8-fa5d-40c2-a66b-fe1e5fd59969",
   "metadata": {
    "tags": []
   },
   "outputs": [],
   "source": [
    "c_const = 0.1\n",
    "def ackley(x,y):\n",
    "    return(\n",
    "        -20*np.exp(-0.2*np.sqrt(0.5*(x**2+y**2))) - c_const*np.exp(0.5*(np.cos(2*np.pi*x)+np.cos(2*np.pi*y))) + np.e + 20\n",
    "    )"
   ]
  },
  {
   "cell_type": "markdown",
   "id": "ed8f408a-b70d-4b3e-8269-4d3e991a4a94",
   "metadata": {
    "tags": []
   },
   "source": [
    "Gradient"
   ]
  },
  {
   "cell_type": "code",
   "execution_count": 36,
   "id": "c168d369-c364-4054-824e-93ddc4245686",
   "metadata": {
    "tags": []
   },
   "outputs": [
    {
     "data": {
      "text/latex": [
       "$\\displaystyle \\left[\\begin{matrix}1.0 \\pi c e^{0.5 \\cos{\\left(2 \\pi x \\right)} + 0.5 \\cos{\\left(2 \\pi y \\right)}} \\sin{\\left(2 \\pi x \\right)} + \\frac{2.82842712474619 x e^{- 0.14142135623731 \\sqrt{x^{2} + y^{2}}}}{\\sqrt{x^{2} + y^{2}}}\\\\1.0 \\pi c e^{0.5 \\cos{\\left(2 \\pi x \\right)} + 0.5 \\cos{\\left(2 \\pi y \\right)}} \\sin{\\left(2 \\pi y \\right)} + \\frac{2.82842712474619 y e^{- 0.14142135623731 \\sqrt{x^{2} + y^{2}}}}{\\sqrt{x^{2} + y^{2}}}\\end{matrix}\\right]$"
      ],
      "text/plain": [
       "Matrix([\n",
       "[1.0*pi*c*exp(0.5*cos(2*pi*x) + 0.5*cos(2*pi*y))*sin(2*pi*x) + 2.82842712474619*x*exp(-0.14142135623731*sqrt(x**2 + y**2))/sqrt(x**2 + y**2)],\n",
       "[1.0*pi*c*exp(0.5*cos(2*pi*x) + 0.5*cos(2*pi*y))*sin(2*pi*y) + 2.82842712474619*y*exp(-0.14142135623731*sqrt(x**2 + y**2))/sqrt(x**2 + y**2)]])"
      ]
     },
     "execution_count": 36,
     "metadata": {},
     "output_type": "execute_result"
    }
   ],
   "source": [
    "Grad(f, 'x, y')"
   ]
  },
  {
   "cell_type": "code",
   "execution_count": 37,
   "id": "e6074d9a-5809-4764-937d-7080855c8b64",
   "metadata": {
    "tags": []
   },
   "outputs": [],
   "source": [
    "del x,c,y"
   ]
  },
  {
   "cell_type": "code",
   "execution_count": 38,
   "id": "877a8f60-c695-434c-a215-b837b6e11210",
   "metadata": {
    "tags": []
   },
   "outputs": [],
   "source": [
    "k = 0.2 * sqrt(0.5)\n",
    "def grad(theta):\n",
    "    x = copy(theta[0])\n",
    "    y = copy(theta[1])\n",
    "    print(x,y)\n",
    "    norm = np.sqrt(x**2+y**2)\n",
    "    pi_exp_cos_sin = np.pi*np.exp(0.5*np.cos(2*np.pi*x)+0.5*np.cos(2*np.pi*y))\n",
    "    return np.array([\n",
    "        2*k*x*np.exp(-c_const*norm)/norm + c_const*pi_exp_cos_sin*np.sin(2*np.pi*x),\n",
    "        2*k*y*np.exp(-c_const*norm)/norm + c_const*pi_exp_cos_sin*np.sin(2*np.pi*y)\n",
    "    ])"
   ]
  },
  {
   "cell_type": "code",
   "execution_count": 39,
   "id": "ed833941-3ddc-4d57-bae8-1cf43e845aa3",
   "metadata": {
    "tags": []
   },
   "outputs": [],
   "source": [
    "def GD(grad=None, gd_params={}, f_params={}):\n",
    "    \"\"\"\n",
    "    Gradient Descent\n",
    "    \"\"\"\n",
    "    nIter = gd_params['nIter']\n",
    "    alpha = gd_params['alpha']\n",
    "    theta = copy(f_params['input'])\n",
    "    Theta = []\n",
    "    for _ in range(nIter):\n",
    "        p = grad(theta)\n",
    "        theta = theta - alpha*p\n",
    "        Theta.append(copy(theta))\n",
    "    return np.array(Theta)"
   ]
  },
  {
   "cell_type": "code",
   "execution_count": 40,
   "id": "d30f9fc2-fbb3-4578-8493-23191400e7d9",
   "metadata": {
    "tags": []
   },
   "outputs": [],
   "source": [
    "x_init = np.array([1.0, 1.0])"
   ]
  },
  {
   "cell_type": "code",
   "execution_count": 41,
   "id": "1c21b84c-8b74-4b02-8b70-7d5d57ae6627",
   "metadata": {
    "tags": []
   },
   "outputs": [],
   "source": [
    "#x_init = 0.5*np.random.normal(size=4)\n",
    "gd_params = {\n",
    "    'alpha' : 0.001, \n",
    "    'nIter' : 10000,\n",
    "}\n",
    "f_params={'input': x_init}"
   ]
  },
  {
   "cell_type": "code",
   "execution_count": 42,
   "id": "1e204834-4b6b-4010-89f3-426ccb8871d0",
   "metadata": {
    "tags": []
   },
   "outputs": [
    {
     "name": "stdout",
     "output_type": "stream",
     "text": [
      "1.0 1.0\n",
      "0.999826375310921 0.999826375310921\n"
     ]
    },
    {
     "ename": "TypeError",
     "evalue": "loop of ufunc does not support argument 0 of type Float which has no callable sqrt method",
     "output_type": "error",
     "traceback": [
      "\u001b[0;31m---------------------------------------------------------------------------\u001b[0m",
      "\u001b[0;31mAttributeError\u001b[0m                            Traceback (most recent call last)",
      "\u001b[0;31mAttributeError\u001b[0m: 'Float' object has no attribute 'sqrt'",
      "\nThe above exception was the direct cause of the following exception:\n",
      "\u001b[0;31mTypeError\u001b[0m                                 Traceback (most recent call last)",
      "Cell \u001b[0;32mIn[42], line 1\u001b[0m\n\u001b[0;32m----> 1\u001b[0m \u001b[43mGD\u001b[49m\u001b[43m(\u001b[49m\u001b[43mgrad\u001b[49m\u001b[38;5;241;43m=\u001b[39;49m\u001b[43mgrad\u001b[49m\u001b[43m,\u001b[49m\u001b[43m \u001b[49m\u001b[43mgd_params\u001b[49m\u001b[38;5;241;43m=\u001b[39;49m\u001b[43mgd_params\u001b[49m\u001b[43m,\u001b[49m\u001b[43m \u001b[49m\u001b[43mf_params\u001b[49m\u001b[38;5;241;43m=\u001b[39;49m\u001b[43mf_params\u001b[49m\u001b[43m)\u001b[49m\n",
      "Cell \u001b[0;32mIn[39], line 10\u001b[0m, in \u001b[0;36mGD\u001b[0;34m(grad, gd_params, f_params)\u001b[0m\n\u001b[1;32m      8\u001b[0m Theta \u001b[38;5;241m=\u001b[39m []\n\u001b[1;32m      9\u001b[0m \u001b[38;5;28;01mfor\u001b[39;00m _ \u001b[38;5;129;01min\u001b[39;00m \u001b[38;5;28mrange\u001b[39m(nIter):\n\u001b[0;32m---> 10\u001b[0m     p \u001b[38;5;241m=\u001b[39m \u001b[43mgrad\u001b[49m\u001b[43m(\u001b[49m\u001b[43mtheta\u001b[49m\u001b[43m)\u001b[49m\n\u001b[1;32m     11\u001b[0m     theta \u001b[38;5;241m=\u001b[39m theta \u001b[38;5;241m-\u001b[39m alpha\u001b[38;5;241m*\u001b[39mp\n\u001b[1;32m     12\u001b[0m     Theta\u001b[38;5;241m.\u001b[39mappend(copy(theta))\n",
      "Cell \u001b[0;32mIn[38], line 6\u001b[0m, in \u001b[0;36mgrad\u001b[0;34m(theta)\u001b[0m\n\u001b[1;32m      4\u001b[0m y \u001b[38;5;241m=\u001b[39m copy(theta[\u001b[38;5;241m1\u001b[39m])\n\u001b[1;32m      5\u001b[0m \u001b[38;5;28mprint\u001b[39m(x,y)\n\u001b[0;32m----> 6\u001b[0m norm \u001b[38;5;241m=\u001b[39m \u001b[43mnp\u001b[49m\u001b[38;5;241;43m.\u001b[39;49m\u001b[43msqrt\u001b[49m\u001b[43m(\u001b[49m\u001b[43mx\u001b[49m\u001b[38;5;241;43m*\u001b[39;49m\u001b[38;5;241;43m*\u001b[39;49m\u001b[38;5;241;43m2\u001b[39;49m\u001b[38;5;241;43m+\u001b[39;49m\u001b[43my\u001b[49m\u001b[38;5;241;43m*\u001b[39;49m\u001b[38;5;241;43m*\u001b[39;49m\u001b[38;5;241;43m2\u001b[39;49m\u001b[43m)\u001b[49m\n\u001b[1;32m      7\u001b[0m pi_exp_cos_sin \u001b[38;5;241m=\u001b[39m np\u001b[38;5;241m.\u001b[39mpi\u001b[38;5;241m*\u001b[39mnp\u001b[38;5;241m.\u001b[39mexp(\u001b[38;5;241m0.5\u001b[39m\u001b[38;5;241m*\u001b[39mnp\u001b[38;5;241m.\u001b[39mcos(\u001b[38;5;241m2\u001b[39m\u001b[38;5;241m*\u001b[39mnp\u001b[38;5;241m.\u001b[39mpi\u001b[38;5;241m*\u001b[39mx)\u001b[38;5;241m+\u001b[39m\u001b[38;5;241m0.5\u001b[39m\u001b[38;5;241m*\u001b[39mnp\u001b[38;5;241m.\u001b[39mcos(\u001b[38;5;241m2\u001b[39m\u001b[38;5;241m*\u001b[39mnp\u001b[38;5;241m.\u001b[39mpi\u001b[38;5;241m*\u001b[39my))\n\u001b[1;32m      8\u001b[0m \u001b[38;5;28;01mreturn\u001b[39;00m np\u001b[38;5;241m.\u001b[39marray([\n\u001b[1;32m      9\u001b[0m     \u001b[38;5;241m2\u001b[39m\u001b[38;5;241m*\u001b[39mk\u001b[38;5;241m*\u001b[39mx\u001b[38;5;241m*\u001b[39mnp\u001b[38;5;241m.\u001b[39mexp(\u001b[38;5;241m-\u001b[39mc_const\u001b[38;5;241m*\u001b[39mnorm)\u001b[38;5;241m/\u001b[39mnorm \u001b[38;5;241m+\u001b[39m c_const\u001b[38;5;241m*\u001b[39mpi_exp_cos_sin\u001b[38;5;241m*\u001b[39mnp\u001b[38;5;241m.\u001b[39msin(\u001b[38;5;241m2\u001b[39m\u001b[38;5;241m*\u001b[39mnp\u001b[38;5;241m.\u001b[39mpi\u001b[38;5;241m*\u001b[39mx),\n\u001b[1;32m     10\u001b[0m     \u001b[38;5;241m2\u001b[39m\u001b[38;5;241m*\u001b[39mk\u001b[38;5;241m*\u001b[39my\u001b[38;5;241m*\u001b[39mnp\u001b[38;5;241m.\u001b[39mexp(\u001b[38;5;241m-\u001b[39mc_const\u001b[38;5;241m*\u001b[39mnorm)\u001b[38;5;241m/\u001b[39mnorm \u001b[38;5;241m+\u001b[39m c_const\u001b[38;5;241m*\u001b[39mpi_exp_cos_sin\u001b[38;5;241m*\u001b[39mnp\u001b[38;5;241m.\u001b[39msin(\u001b[38;5;241m2\u001b[39m\u001b[38;5;241m*\u001b[39mnp\u001b[38;5;241m.\u001b[39mpi\u001b[38;5;241m*\u001b[39my)\n\u001b[1;32m     11\u001b[0m ])\n",
      "\u001b[0;31mTypeError\u001b[0m: loop of ufunc does not support argument 0 of type Float which has no callable sqrt method"
     ]
    }
   ],
   "source": [
    "GD(grad=grad, gd_params=gd_params, f_params=f_params)"
   ]
  },
  {
   "cell_type": "code",
   "execution_count": null,
   "id": "7928f3b0-b419-4c0f-98f4-469bbdb94a2c",
   "metadata": {},
   "outputs": [],
   "source": []
  },
  {
   "cell_type": "code",
   "execution_count": null,
   "id": "379eb0c1-ea3f-45bd-913a-29fb7ea2d49d",
   "metadata": {},
   "outputs": [],
   "source": []
  },
  {
   "cell_type": "code",
   "execution_count": null,
   "id": "2f57ffc3-f051-477c-9362-f72ed6a7d6c9",
   "metadata": {},
   "outputs": [],
   "source": []
  },
  {
   "cell_type": "code",
   "execution_count": null,
   "id": "8865d634-2427-4ffc-b7af-189721b51881",
   "metadata": {},
   "outputs": [],
   "source": []
  },
  {
   "cell_type": "code",
   "execution_count": null,
   "id": "3882b483-45ed-4470-abd2-844f5817565a",
   "metadata": {},
   "outputs": [],
   "source": []
  },
  {
   "cell_type": "code",
   "execution_count": null,
   "id": "764035d0-a88e-4b4b-968d-1e26dbf7c687",
   "metadata": {},
   "outputs": [],
   "source": []
  }
 ],
 "metadata": {
  "kernelspec": {
   "display_name": "Python 3 (ipykernel)",
   "language": "python",
   "name": "python3"
  },
  "language_info": {
   "codemirror_mode": {
    "name": "ipython",
    "version": 3
   },
   "file_extension": ".py",
   "mimetype": "text/x-python",
   "name": "python",
   "nbconvert_exporter": "python",
   "pygments_lexer": "ipython3",
   "version": "3.10.10"
  }
 },
 "nbformat": 4,
 "nbformat_minor": 5
}
